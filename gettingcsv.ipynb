{
 "cells": [
  {
   "cell_type": "markdown",
   "metadata": {},
   "source": [
    "# Preprocessing of Data"
   ]
  },
  {
   "cell_type": "markdown",
   "metadata": {},
   "source": [
    "#### Importing important libraries"
   ]
  },
  {
   "cell_type": "code",
   "execution_count": 4,
   "metadata": {},
   "outputs": [],
   "source": [
    "import pandas as pd\n",
    "import numpy as np\n",
    "import matplotlib.pyplot as plt\n",
    "import json\n",
    "from rake_nltk import Rake\n",
    "import re"
   ]
  },
  {
   "cell_type": "markdown",
   "metadata": {},
   "source": [
    "#### Reading the initial raw csv file using pandas"
   ]
  },
  {
   "cell_type": "code",
   "execution_count": 5,
   "metadata": {},
   "outputs": [],
   "source": [
    "books = pd.read_csv('books2.csv')"
   ]
  },
  {
   "cell_type": "markdown",
   "metadata": {},
   "source": [
    "#### Getting the book head, shape and column"
   ]
  },
  {
   "cell_type": "code",
   "execution_count": 6,
   "metadata": {},
   "outputs": [
    {
     "data": {
      "text/html": [
       "<div>\n",
       "<style scoped>\n",
       "    .dataframe tbody tr th:only-of-type {\n",
       "        vertical-align: middle;\n",
       "    }\n",
       "\n",
       "    .dataframe tbody tr th {\n",
       "        vertical-align: top;\n",
       "    }\n",
       "\n",
       "    .dataframe thead th {\n",
       "        text-align: right;\n",
       "    }\n",
       "</style>\n",
       "<table border=\"1\" class=\"dataframe\">\n",
       "  <thead>\n",
       "    <tr style=\"text-align: right;\">\n",
       "      <th></th>\n",
       "      <th>bookId</th>\n",
       "      <th>title</th>\n",
       "      <th>series</th>\n",
       "      <th>author</th>\n",
       "      <th>rating</th>\n",
       "      <th>description</th>\n",
       "      <th>language</th>\n",
       "      <th>isbn</th>\n",
       "      <th>genres</th>\n",
       "      <th>characters</th>\n",
       "      <th>...</th>\n",
       "      <th>firstPublishDate</th>\n",
       "      <th>awards</th>\n",
       "      <th>numRatings</th>\n",
       "      <th>ratingsByStars</th>\n",
       "      <th>likedPercent</th>\n",
       "      <th>setting</th>\n",
       "      <th>coverImg</th>\n",
       "      <th>bbeScore</th>\n",
       "      <th>bbeVotes</th>\n",
       "      <th>price</th>\n",
       "    </tr>\n",
       "  </thead>\n",
       "  <tbody>\n",
       "    <tr>\n",
       "      <th>0</th>\n",
       "      <td>2767052-the-hunger-games</td>\n",
       "      <td>The Hunger Games</td>\n",
       "      <td>The Hunger Games #1</td>\n",
       "      <td>Suzanne Collins</td>\n",
       "      <td>4.33</td>\n",
       "      <td>WINNING MEANS FAME AND FORTUNE.LOSING MEANS CE...</td>\n",
       "      <td>English</td>\n",
       "      <td>9.78E+12</td>\n",
       "      <td>YoungAdult Fiction Dystopia Fantasy ScienceFic...</td>\n",
       "      <td>KatnissEverdeen PeetaMellark Cato(HungerGames)...</td>\n",
       "      <td>...</td>\n",
       "      <td>NaN</td>\n",
       "      <td>['Locus Award Nominee for Best Young Adult Boo...</td>\n",
       "      <td>6376780</td>\n",
       "      <td>['3444695', '1921313', '745221', '171994', '93...</td>\n",
       "      <td>96.0</td>\n",
       "      <td>District12 Panem Capitol Panem Panem(UnitedSta...</td>\n",
       "      <td>https://i.gr-assets.com/images/S/compressed.ph...</td>\n",
       "      <td>2993816</td>\n",
       "      <td>30516</td>\n",
       "      <td>5.09</td>\n",
       "    </tr>\n",
       "    <tr>\n",
       "      <th>1</th>\n",
       "      <td>2.Harry_Potter_and_the_Order_of_the_Phoenix</td>\n",
       "      <td>Harry Potter and the Order of the Phoenix</td>\n",
       "      <td>Harry Potter #5</td>\n",
       "      <td>J.K. Rowling, Mary GrandPré (Illustrator)</td>\n",
       "      <td>4.50</td>\n",
       "      <td>There is a door at the end of a silent corrido...</td>\n",
       "      <td>English</td>\n",
       "      <td>9.78E+12</td>\n",
       "      <td>Fantasy YoungAdult Fiction Magic Childrens Adv...</td>\n",
       "      <td>SiriusBlack DracoMalfoy RonWeasley PetuniaDurs...</td>\n",
       "      <td>...</td>\n",
       "      <td>06/21/03</td>\n",
       "      <td>['Bram Stoker Award for Works for Young Reader...</td>\n",
       "      <td>2507623</td>\n",
       "      <td>['1593642', '637516', '222366', '39573', '14526']</td>\n",
       "      <td>98.0</td>\n",
       "      <td>HogwartsSchoolofWitchcraftandWizardry(UnitedKi...</td>\n",
       "      <td>https://i.gr-assets.com/images/S/compressed.ph...</td>\n",
       "      <td>2632233</td>\n",
       "      <td>26923</td>\n",
       "      <td>7.38</td>\n",
       "    </tr>\n",
       "    <tr>\n",
       "      <th>2</th>\n",
       "      <td>2657.To_Kill_a_Mockingbird</td>\n",
       "      <td>To Kill a Mockingbird</td>\n",
       "      <td>To Kill a Mockingbird</td>\n",
       "      <td>Harper Lee</td>\n",
       "      <td>4.28</td>\n",
       "      <td>The unforgettable novel of a childhood in a sl...</td>\n",
       "      <td>English</td>\n",
       "      <td>1.00E+13</td>\n",
       "      <td>Classics Fiction HistoricalFiction School Lite...</td>\n",
       "      <td>ScoutFinch AtticusFinch JemFinch ArthurRadley ...</td>\n",
       "      <td>...</td>\n",
       "      <td>07-11-1960</td>\n",
       "      <td>['Pulitzer Prize for Fiction (1961)', 'Audie A...</td>\n",
       "      <td>4501075</td>\n",
       "      <td>['2363896', '1333153', '573280', '149952', '80...</td>\n",
       "      <td>95.0</td>\n",
       "      <td>Maycomb Alabama(UnitedStates)</td>\n",
       "      <td>https://i.gr-assets.com/images/S/compressed.ph...</td>\n",
       "      <td>2269402</td>\n",
       "      <td>23328</td>\n",
       "      <td>NaN</td>\n",
       "    </tr>\n",
       "    <tr>\n",
       "      <th>3</th>\n",
       "      <td>1885.Pride_and_Prejudice</td>\n",
       "      <td>Pride and Prejudice</td>\n",
       "      <td>NaN</td>\n",
       "      <td>Jane Austen, Anna Quindlen (Introduction)</td>\n",
       "      <td>4.26</td>\n",
       "      <td>Alternate cover edition of ISBN 9780679783268S...</td>\n",
       "      <td>English</td>\n",
       "      <td>1.00E+13</td>\n",
       "      <td>Classics Fiction Romance HistoricalFiction Lit...</td>\n",
       "      <td>Mr.Bennet Mrs.Bennet JaneBennet ElizabethBenne...</td>\n",
       "      <td>...</td>\n",
       "      <td>01/28/13</td>\n",
       "      <td>[]</td>\n",
       "      <td>2998241</td>\n",
       "      <td>['1617567', '816659', '373311', '113934', '767...</td>\n",
       "      <td>94.0</td>\n",
       "      <td>UnitedKingdom Derbyshire England(UnitedKingdom...</td>\n",
       "      <td>https://i.gr-assets.com/images/S/compressed.ph...</td>\n",
       "      <td>1983116</td>\n",
       "      <td>20452</td>\n",
       "      <td>NaN</td>\n",
       "    </tr>\n",
       "    <tr>\n",
       "      <th>4</th>\n",
       "      <td>41865.Twilight</td>\n",
       "      <td>Twilight</td>\n",
       "      <td>The Twilight Saga #1</td>\n",
       "      <td>Stephenie Meyer</td>\n",
       "      <td>3.60</td>\n",
       "      <td>About three things I was absolutely positive.\\...</td>\n",
       "      <td>English</td>\n",
       "      <td>9.78E+12</td>\n",
       "      <td>YoungAdult Fantasy Romance Vampires Fiction Pa...</td>\n",
       "      <td>EdwardCullen JacobBlack Laurent Renee BellaSwa...</td>\n",
       "      <td>...</td>\n",
       "      <td>10-05-2005</td>\n",
       "      <td>['Georgia Peach Book Award (2007)', 'Buxtehude...</td>\n",
       "      <td>4964519</td>\n",
       "      <td>['1751460', '1113682', '1008686', '542017', '5...</td>\n",
       "      <td>78.0</td>\n",
       "      <td>Forks Washington(UnitedStates) Phoenix Arizona...</td>\n",
       "      <td>https://i.gr-assets.com/images/S/compressed.ph...</td>\n",
       "      <td>1459448</td>\n",
       "      <td>14874</td>\n",
       "      <td>2.1</td>\n",
       "    </tr>\n",
       "  </tbody>\n",
       "</table>\n",
       "<p>5 rows × 25 columns</p>\n",
       "</div>"
      ],
      "text/plain": [
       "                                        bookId  \\\n",
       "0                     2767052-the-hunger-games   \n",
       "1  2.Harry_Potter_and_the_Order_of_the_Phoenix   \n",
       "2                   2657.To_Kill_a_Mockingbird   \n",
       "3                     1885.Pride_and_Prejudice   \n",
       "4                               41865.Twilight   \n",
       "\n",
       "                                       title                 series  \\\n",
       "0                           The Hunger Games    The Hunger Games #1   \n",
       "1  Harry Potter and the Order of the Phoenix        Harry Potter #5   \n",
       "2                      To Kill a Mockingbird  To Kill a Mockingbird   \n",
       "3                        Pride and Prejudice                    NaN   \n",
       "4                                   Twilight   The Twilight Saga #1   \n",
       "\n",
       "                                      author  rating  \\\n",
       "0                            Suzanne Collins    4.33   \n",
       "1  J.K. Rowling, Mary GrandPré (Illustrator)    4.50   \n",
       "2                                 Harper Lee    4.28   \n",
       "3  Jane Austen, Anna Quindlen (Introduction)    4.26   \n",
       "4                            Stephenie Meyer    3.60   \n",
       "\n",
       "                                         description language      isbn  \\\n",
       "0  WINNING MEANS FAME AND FORTUNE.LOSING MEANS CE...  English  9.78E+12   \n",
       "1  There is a door at the end of a silent corrido...  English  9.78E+12   \n",
       "2  The unforgettable novel of a childhood in a sl...  English  1.00E+13   \n",
       "3  Alternate cover edition of ISBN 9780679783268S...  English  1.00E+13   \n",
       "4  About three things I was absolutely positive.\\...  English  9.78E+12   \n",
       "\n",
       "                                              genres  \\\n",
       "0  YoungAdult Fiction Dystopia Fantasy ScienceFic...   \n",
       "1  Fantasy YoungAdult Fiction Magic Childrens Adv...   \n",
       "2  Classics Fiction HistoricalFiction School Lite...   \n",
       "3  Classics Fiction Romance HistoricalFiction Lit...   \n",
       "4  YoungAdult Fantasy Romance Vampires Fiction Pa...   \n",
       "\n",
       "                                          characters  ... firstPublishDate  \\\n",
       "0  KatnissEverdeen PeetaMellark Cato(HungerGames)...  ...              NaN   \n",
       "1  SiriusBlack DracoMalfoy RonWeasley PetuniaDurs...  ...         06/21/03   \n",
       "2  ScoutFinch AtticusFinch JemFinch ArthurRadley ...  ...       07-11-1960   \n",
       "3  Mr.Bennet Mrs.Bennet JaneBennet ElizabethBenne...  ...         01/28/13   \n",
       "4  EdwardCullen JacobBlack Laurent Renee BellaSwa...  ...       10-05-2005   \n",
       "\n",
       "                                              awards numRatings  \\\n",
       "0  ['Locus Award Nominee for Best Young Adult Boo...    6376780   \n",
       "1  ['Bram Stoker Award for Works for Young Reader...    2507623   \n",
       "2  ['Pulitzer Prize for Fiction (1961)', 'Audie A...    4501075   \n",
       "3                                                 []    2998241   \n",
       "4  ['Georgia Peach Book Award (2007)', 'Buxtehude...    4964519   \n",
       "\n",
       "                                      ratingsByStars likedPercent  \\\n",
       "0  ['3444695', '1921313', '745221', '171994', '93...         96.0   \n",
       "1  ['1593642', '637516', '222366', '39573', '14526']         98.0   \n",
       "2  ['2363896', '1333153', '573280', '149952', '80...         95.0   \n",
       "3  ['1617567', '816659', '373311', '113934', '767...         94.0   \n",
       "4  ['1751460', '1113682', '1008686', '542017', '5...         78.0   \n",
       "\n",
       "                                             setting  \\\n",
       "0  District12 Panem Capitol Panem Panem(UnitedSta...   \n",
       "1  HogwartsSchoolofWitchcraftandWizardry(UnitedKi...   \n",
       "2                     Maycomb Alabama(UnitedStates)    \n",
       "3  UnitedKingdom Derbyshire England(UnitedKingdom...   \n",
       "4  Forks Washington(UnitedStates) Phoenix Arizona...   \n",
       "\n",
       "                                            coverImg  bbeScore bbeVotes  price  \n",
       "0  https://i.gr-assets.com/images/S/compressed.ph...   2993816    30516   5.09  \n",
       "1  https://i.gr-assets.com/images/S/compressed.ph...   2632233    26923   7.38  \n",
       "2  https://i.gr-assets.com/images/S/compressed.ph...   2269402    23328    NaN  \n",
       "3  https://i.gr-assets.com/images/S/compressed.ph...   1983116    20452    NaN  \n",
       "4  https://i.gr-assets.com/images/S/compressed.ph...   1459448    14874    2.1  \n",
       "\n",
       "[5 rows x 25 columns]"
      ]
     },
     "execution_count": 6,
     "metadata": {},
     "output_type": "execute_result"
    }
   ],
   "source": [
    "books.head()"
   ]
  },
  {
   "cell_type": "code",
   "execution_count": 7,
   "metadata": {},
   "outputs": [
    {
     "data": {
      "text/plain": [
       "(52478, 25)"
      ]
     },
     "execution_count": 7,
     "metadata": {},
     "output_type": "execute_result"
    }
   ],
   "source": [
    "books.shape"
   ]
  },
  {
   "cell_type": "code",
   "execution_count": 6,
   "metadata": {},
   "outputs": [
    {
     "data": {
      "text/plain": [
       "Index(['bookId', 'title', 'series', 'author', 'rating', 'description',\n",
       "       'language', 'isbn', 'genres', 'characters', 'bookFormat', 'edition',\n",
       "       'pages', 'publisher', 'publishDate', 'firstPublishDate', 'awards',\n",
       "       'numRatings', 'ratingsByStars', 'likedPercent', 'setting', 'coverImg',\n",
       "       'bbeScore', 'bbeVotes', 'price'],\n",
       "      dtype='object')"
      ]
     },
     "execution_count": 6,
     "metadata": {},
     "output_type": "execute_result"
    }
   ],
   "source": [
    "books.columns"
   ]
  },
  {
   "cell_type": "markdown",
   "metadata": {},
   "source": [
    "#### dropping the columns we do not require for our further operations"
   ]
  },
  {
   "cell_type": "code",
   "execution_count": 8,
   "metadata": {},
   "outputs": [],
   "source": [
    "books.drop(columns=['bookId','rating','language', 'isbn','bookFormat', 'edition',\n",
    "       'pages','publishDate', 'firstPublishDate', 'awards',\n",
    "       'numRatings', 'ratingsByStars', 'likedPercent','bbeScore', 'bbeVotes', 'price'],inplace=True)"
   ]
  },
  {
   "cell_type": "code",
   "execution_count": 9,
   "metadata": {},
   "outputs": [
    {
     "data": {
      "text/plain": [
       "Index(['title', 'series', 'author', 'description', 'genres', 'characters',\n",
       "       'publisher', 'setting', 'coverImg'],\n",
       "      dtype='object')"
      ]
     },
     "execution_count": 9,
     "metadata": {},
     "output_type": "execute_result"
    }
   ],
   "source": [
    "books.columns"
   ]
  },
  {
   "cell_type": "markdown",
   "metadata": {},
   "source": [
    "#### remaning the field title by original title"
   ]
  },
  {
   "cell_type": "code",
   "execution_count": 10,
   "metadata": {},
   "outputs": [],
   "source": [
    "books.rename(columns={'title':'original_title'},inplace=True)"
   ]
  },
  {
   "cell_type": "code",
   "execution_count": 12,
   "metadata": {},
   "outputs": [
    {
     "data": {
      "text/html": [
       "<div>\n",
       "<style scoped>\n",
       "    .dataframe tbody tr th:only-of-type {\n",
       "        vertical-align: middle;\n",
       "    }\n",
       "\n",
       "    .dataframe tbody tr th {\n",
       "        vertical-align: top;\n",
       "    }\n",
       "\n",
       "    .dataframe thead th {\n",
       "        text-align: right;\n",
       "    }\n",
       "</style>\n",
       "<table border=\"1\" class=\"dataframe\">\n",
       "  <thead>\n",
       "    <tr style=\"text-align: right;\">\n",
       "      <th></th>\n",
       "      <th>original_title</th>\n",
       "      <th>series</th>\n",
       "      <th>author</th>\n",
       "      <th>description</th>\n",
       "      <th>genres</th>\n",
       "      <th>characters</th>\n",
       "      <th>publisher</th>\n",
       "      <th>setting</th>\n",
       "      <th>coverImg</th>\n",
       "    </tr>\n",
       "  </thead>\n",
       "  <tbody>\n",
       "    <tr>\n",
       "      <th>0</th>\n",
       "      <td>The Hunger Games</td>\n",
       "      <td>The Hunger Games #1</td>\n",
       "      <td>Suzanne Collins</td>\n",
       "      <td>WINNING MEANS FAME AND FORTUNE.LOSING MEANS CE...</td>\n",
       "      <td>YoungAdult Fiction Dystopia Fantasy ScienceFic...</td>\n",
       "      <td>KatnissEverdeen PeetaMellark Cato(HungerGames)...</td>\n",
       "      <td>Scholastic Press</td>\n",
       "      <td>District12 Panem Capitol Panem Panem(UnitedSta...</td>\n",
       "      <td>https://i.gr-assets.com/images/S/compressed.ph...</td>\n",
       "    </tr>\n",
       "  </tbody>\n",
       "</table>\n",
       "</div>"
      ],
      "text/plain": [
       "     original_title               series           author  \\\n",
       "0  The Hunger Games  The Hunger Games #1  Suzanne Collins   \n",
       "\n",
       "                                         description  \\\n",
       "0  WINNING MEANS FAME AND FORTUNE.LOSING MEANS CE...   \n",
       "\n",
       "                                              genres  \\\n",
       "0  YoungAdult Fiction Dystopia Fantasy ScienceFic...   \n",
       "\n",
       "                                          characters         publisher  \\\n",
       "0  KatnissEverdeen PeetaMellark Cato(HungerGames)...  Scholastic Press   \n",
       "\n",
       "                                             setting  \\\n",
       "0  District12 Panem Capitol Panem Panem(UnitedSta...   \n",
       "\n",
       "                                            coverImg  \n",
       "0  https://i.gr-assets.com/images/S/compressed.ph...  "
      ]
     },
     "execution_count": 12,
     "metadata": {},
     "output_type": "execute_result"
    }
   ],
   "source": [
    "books.head(1)"
   ]
  },
  {
   "cell_type": "markdown",
   "metadata": {},
   "source": [
    "#### Getting the info of all the columns"
   ]
  },
  {
   "cell_type": "code",
   "execution_count": 14,
   "metadata": {},
   "outputs": [
    {
     "name": "stdout",
     "output_type": "stream",
     "text": [
      "<class 'pandas.core.frame.DataFrame'>\n",
      "RangeIndex: 52478 entries, 0 to 52477\n",
      "Data columns (total 9 columns):\n",
      " #   Column          Non-Null Count  Dtype \n",
      "---  ------          --------------  ----- \n",
      " 0   original_title  52478 non-null  object\n",
      " 1   series          23470 non-null  object\n",
      " 2   author          52478 non-null  object\n",
      " 3   description     51140 non-null  object\n",
      " 4   genres          47855 non-null  object\n",
      " 5   characters      13766 non-null  object\n",
      " 6   publisher       48782 non-null  object\n",
      " 7   setting         11578 non-null  object\n",
      " 8   coverImg        51873 non-null  object\n",
      "dtypes: object(9)\n",
      "memory usage: 3.6+ MB\n"
     ]
    }
   ],
   "source": [
    "books.info()"
   ]
  },
  {
   "cell_type": "code",
   "execution_count": 15,
   "metadata": {},
   "outputs": [],
   "source": [
    "books['description'].fillna('',inplace=True)\n",
    "books['publisher'].fillna('',inplace=True)\n",
    "books['genres'].fillna('',inplace=True)\n",
    "books['setting'].fillna('',inplace=True)\n",
    "books['characters'].fillna('',inplace=True)"
   ]
  },
  {
   "cell_type": "code",
   "execution_count": 16,
   "metadata": {},
   "outputs": [
    {
     "name": "stdout",
     "output_type": "stream",
     "text": [
      "<class 'pandas.core.frame.DataFrame'>\n",
      "RangeIndex: 52478 entries, 0 to 52477\n",
      "Data columns (total 9 columns):\n",
      " #   Column          Non-Null Count  Dtype \n",
      "---  ------          --------------  ----- \n",
      " 0   original_title  52478 non-null  object\n",
      " 1   series          23470 non-null  object\n",
      " 2   author          52478 non-null  object\n",
      " 3   description     52478 non-null  object\n",
      " 4   genres          52478 non-null  object\n",
      " 5   characters      52478 non-null  object\n",
      " 6   publisher       52478 non-null  object\n",
      " 7   setting         52478 non-null  object\n",
      " 8   coverImg        51873 non-null  object\n",
      "dtypes: object(9)\n",
      "memory usage: 3.6+ MB\n"
     ]
    }
   ],
   "source": [
    "books.info()"
   ]
  },
  {
   "cell_type": "code",
   "execution_count": 17,
   "metadata": {},
   "outputs": [
    {
     "data": {
      "text/html": [
       "<div>\n",
       "<style scoped>\n",
       "    .dataframe tbody tr th:only-of-type {\n",
       "        vertical-align: middle;\n",
       "    }\n",
       "\n",
       "    .dataframe tbody tr th {\n",
       "        vertical-align: top;\n",
       "    }\n",
       "\n",
       "    .dataframe thead th {\n",
       "        text-align: right;\n",
       "    }\n",
       "</style>\n",
       "<table border=\"1\" class=\"dataframe\">\n",
       "  <thead>\n",
       "    <tr style=\"text-align: right;\">\n",
       "      <th></th>\n",
       "      <th>original_title</th>\n",
       "      <th>series</th>\n",
       "      <th>author</th>\n",
       "      <th>description</th>\n",
       "      <th>genres</th>\n",
       "      <th>characters</th>\n",
       "      <th>publisher</th>\n",
       "      <th>setting</th>\n",
       "      <th>coverImg</th>\n",
       "    </tr>\n",
       "  </thead>\n",
       "  <tbody>\n",
       "    <tr>\n",
       "      <th>0</th>\n",
       "      <td>The Hunger Games</td>\n",
       "      <td>The Hunger Games #1</td>\n",
       "      <td>Suzanne Collins</td>\n",
       "      <td>WINNING MEANS FAME AND FORTUNE.LOSING MEANS CE...</td>\n",
       "      <td>YoungAdult Fiction Dystopia Fantasy ScienceFic...</td>\n",
       "      <td>KatnissEverdeen PeetaMellark Cato(HungerGames)...</td>\n",
       "      <td>Scholastic Press</td>\n",
       "      <td>District12 Panem Capitol Panem Panem(UnitedSta...</td>\n",
       "      <td>https://i.gr-assets.com/images/S/compressed.ph...</td>\n",
       "    </tr>\n",
       "  </tbody>\n",
       "</table>\n",
       "</div>"
      ],
      "text/plain": [
       "     original_title               series           author  \\\n",
       "0  The Hunger Games  The Hunger Games #1  Suzanne Collins   \n",
       "\n",
       "                                         description  \\\n",
       "0  WINNING MEANS FAME AND FORTUNE.LOSING MEANS CE...   \n",
       "\n",
       "                                              genres  \\\n",
       "0  YoungAdult Fiction Dystopia Fantasy ScienceFic...   \n",
       "\n",
       "                                          characters         publisher  \\\n",
       "0  KatnissEverdeen PeetaMellark Cato(HungerGames)...  Scholastic Press   \n",
       "\n",
       "                                             setting  \\\n",
       "0  District12 Panem Capitol Panem Panem(UnitedSta...   \n",
       "\n",
       "                                            coverImg  \n",
       "0  https://i.gr-assets.com/images/S/compressed.ph...  "
      ]
     },
     "execution_count": 17,
     "metadata": {},
     "output_type": "execute_result"
    }
   ],
   "source": [
    "books.head(1)"
   ]
  },
  {
   "cell_type": "markdown",
   "metadata": {},
   "source": [
    "#### Converting data into lower case"
   ]
  },
  {
   "cell_type": "code",
   "execution_count": 21,
   "metadata": {},
   "outputs": [],
   "source": [
    "def remove_spaces(row):\n",
    "    x=[]\n",
    "    for i in row:\n",
    "        i=i.replace(' ','')\n",
    "        i=i.lower()\n",
    "        x.append(i)\n",
    "    return(x)"
   ]
  },
  {
   "cell_type": "code",
   "execution_count": 22,
   "metadata": {},
   "outputs": [],
   "source": [
    "#books['genres'] = books['genres'].apply(remove_spaces).str.join(' ')"
   ]
  },
  {
   "cell_type": "code",
   "execution_count": 23,
   "metadata": {},
   "outputs": [],
   "source": [
    "#books['characters'] = books['characters'].apply(remove_spaces).str.join(' ')"
   ]
  },
  {
   "cell_type": "code",
   "execution_count": 24,
   "metadata": {},
   "outputs": [],
   "source": [
    "#books['setting'] = books['setting'].apply(remove_spaces).str.join(' ')"
   ]
  },
  {
   "cell_type": "code",
   "execution_count": 25,
   "metadata": {},
   "outputs": [],
   "source": [
    "#books['description'] = books['description'].apply(remove_spaces).str.join(' ')"
   ]
  },
  {
   "cell_type": "code",
   "execution_count": 27,
   "metadata": {},
   "outputs": [
    {
     "data": {
      "text/html": [
       "<div>\n",
       "<style scoped>\n",
       "    .dataframe tbody tr th:only-of-type {\n",
       "        vertical-align: middle;\n",
       "    }\n",
       "\n",
       "    .dataframe tbody tr th {\n",
       "        vertical-align: top;\n",
       "    }\n",
       "\n",
       "    .dataframe thead th {\n",
       "        text-align: right;\n",
       "    }\n",
       "</style>\n",
       "<table border=\"1\" class=\"dataframe\">\n",
       "  <thead>\n",
       "    <tr style=\"text-align: right;\">\n",
       "      <th></th>\n",
       "      <th>original_title</th>\n",
       "      <th>series</th>\n",
       "      <th>author</th>\n",
       "      <th>description</th>\n",
       "      <th>genres</th>\n",
       "      <th>characters</th>\n",
       "      <th>publisher</th>\n",
       "      <th>setting</th>\n",
       "      <th>coverImg</th>\n",
       "    </tr>\n",
       "  </thead>\n",
       "  <tbody>\n",
       "    <tr>\n",
       "      <th>0</th>\n",
       "      <td>The Hunger Games</td>\n",
       "      <td>The Hunger Games #1</td>\n",
       "      <td>Suzanne Collins</td>\n",
       "      <td>WINNING MEANS FAME AND FORTUNE.LOSING MEANS CE...</td>\n",
       "      <td>YoungAdult Fiction Dystopia Fantasy ScienceFic...</td>\n",
       "      <td>KatnissEverdeen PeetaMellark Cato(HungerGames)...</td>\n",
       "      <td>Scholastic Press</td>\n",
       "      <td>District12 Panem Capitol Panem Panem(UnitedSta...</td>\n",
       "      <td>https://i.gr-assets.com/images/S/compressed.ph...</td>\n",
       "    </tr>\n",
       "  </tbody>\n",
       "</table>\n",
       "</div>"
      ],
      "text/plain": [
       "     original_title               series           author  \\\n",
       "0  The Hunger Games  The Hunger Games #1  Suzanne Collins   \n",
       "\n",
       "                                         description  \\\n",
       "0  WINNING MEANS FAME AND FORTUNE.LOSING MEANS CE...   \n",
       "\n",
       "                                              genres  \\\n",
       "0  YoungAdult Fiction Dystopia Fantasy ScienceFic...   \n",
       "\n",
       "                                          characters         publisher  \\\n",
       "0  KatnissEverdeen PeetaMellark Cato(HungerGames)...  Scholastic Press   \n",
       "\n",
       "                                             setting  \\\n",
       "0  District12 Panem Capitol Panem Panem(UnitedSta...   \n",
       "\n",
       "                                            coverImg  \n",
       "0  https://i.gr-assets.com/images/S/compressed.ph...  "
      ]
     },
     "execution_count": 27,
     "metadata": {},
     "output_type": "execute_result"
    }
   ],
   "source": [
    "books.head(1)"
   ]
  },
  {
   "cell_type": "code",
   "execution_count": 28,
   "metadata": {},
   "outputs": [],
   "source": [
    "books['characters'] = books['characters'].str.lower()"
   ]
  },
  {
   "cell_type": "code",
   "execution_count": 29,
   "metadata": {},
   "outputs": [],
   "source": [
    "books['original_title'] = books['original_title'].str.lower()"
   ]
  },
  {
   "cell_type": "code",
   "execution_count": 30,
   "metadata": {},
   "outputs": [],
   "source": [
    "books['author'] = books['author'].str.lower()"
   ]
  },
  {
   "cell_type": "code",
   "execution_count": 31,
   "metadata": {},
   "outputs": [],
   "source": [
    "books['genres'] = books['genres'].str.lower()"
   ]
  },
  {
   "cell_type": "code",
   "execution_count": 32,
   "metadata": {},
   "outputs": [],
   "source": [
    "books['series'] = books['series'].str.lower()"
   ]
  },
  {
   "cell_type": "code",
   "execution_count": 33,
   "metadata": {},
   "outputs": [],
   "source": [
    "books['description'] = books['description'].str.lower()"
   ]
  },
  {
   "cell_type": "code",
   "execution_count": 34,
   "metadata": {},
   "outputs": [],
   "source": [
    "books['setting'] = books['setting'].str.lower()"
   ]
  },
  {
   "cell_type": "code",
   "execution_count": 36,
   "metadata": {},
   "outputs": [
    {
     "data": {
      "text/html": [
       "<div>\n",
       "<style scoped>\n",
       "    .dataframe tbody tr th:only-of-type {\n",
       "        vertical-align: middle;\n",
       "    }\n",
       "\n",
       "    .dataframe tbody tr th {\n",
       "        vertical-align: top;\n",
       "    }\n",
       "\n",
       "    .dataframe thead th {\n",
       "        text-align: right;\n",
       "    }\n",
       "</style>\n",
       "<table border=\"1\" class=\"dataframe\">\n",
       "  <thead>\n",
       "    <tr style=\"text-align: right;\">\n",
       "      <th></th>\n",
       "      <th>original_title</th>\n",
       "      <th>series</th>\n",
       "      <th>author</th>\n",
       "      <th>description</th>\n",
       "      <th>genres</th>\n",
       "      <th>characters</th>\n",
       "      <th>publisher</th>\n",
       "      <th>setting</th>\n",
       "      <th>coverImg</th>\n",
       "    </tr>\n",
       "  </thead>\n",
       "  <tbody>\n",
       "    <tr>\n",
       "      <th>0</th>\n",
       "      <td>the hunger games</td>\n",
       "      <td>the hunger games #1</td>\n",
       "      <td>suzanne collins</td>\n",
       "      <td>winning means fame and fortune.losing means ce...</td>\n",
       "      <td>youngadult fiction dystopia fantasy sciencefic...</td>\n",
       "      <td>katnisseverdeen peetamellark cato(hungergames)...</td>\n",
       "      <td>Scholastic Press</td>\n",
       "      <td>district12 panem capitol panem panem(unitedsta...</td>\n",
       "      <td>https://i.gr-assets.com/images/S/compressed.ph...</td>\n",
       "    </tr>\n",
       "  </tbody>\n",
       "</table>\n",
       "</div>"
      ],
      "text/plain": [
       "     original_title               series           author  \\\n",
       "0  the hunger games  the hunger games #1  suzanne collins   \n",
       "\n",
       "                                         description  \\\n",
       "0  winning means fame and fortune.losing means ce...   \n",
       "\n",
       "                                              genres  \\\n",
       "0  youngadult fiction dystopia fantasy sciencefic...   \n",
       "\n",
       "                                          characters         publisher  \\\n",
       "0  katnisseverdeen peetamellark cato(hungergames)...  Scholastic Press   \n",
       "\n",
       "                                             setting  \\\n",
       "0  district12 panem capitol panem panem(unitedsta...   \n",
       "\n",
       "                                            coverImg  \n",
       "0  https://i.gr-assets.com/images/S/compressed.ph...  "
      ]
     },
     "execution_count": 36,
     "metadata": {},
     "output_type": "execute_result"
    }
   ],
   "source": [
    "books.head(1)"
   ]
  },
  {
   "cell_type": "markdown",
   "metadata": {},
   "source": [
    "#### To extract important data from the dataset columns, I have used RAKE algorithm .  Rapid Automatic Keyword Extraction (RAKE) algorithm is obtained from rake_nltk library\n"
   ]
  },
  {
   "cell_type": "code",
   "execution_count": 37,
   "metadata": {},
   "outputs": [
    {
     "name": "stderr",
     "output_type": "stream",
     "text": [
      "[nltk_data] Downloading package punkt to\n",
      "[nltk_data]     C:\\Users\\sinja\\AppData\\Roaming\\nltk_data...\n",
      "[nltk_data]   Package punkt is already up-to-date!\n"
     ]
    }
   ],
   "source": [
    "from rake_nltk import Rake\n",
    "import nltk\n",
    "nltk.download('punkt')\n",
    "r=Rake()\n",
    "def extract_important_words(row):\n",
    "    word = r.extract_keywords_from_text(row)\n",
    "    word = r.get_ranked_phrases()\n",
    "    return ' '.join(word)"
   ]
  },
  {
   "cell_type": "code",
   "execution_count": 38,
   "metadata": {},
   "outputs": [],
   "source": [
    "books['author'] = books['author'].apply(extract_important_words)"
   ]
  },
  {
   "cell_type": "code",
   "execution_count": 39,
   "metadata": {},
   "outputs": [],
   "source": [
    "books['description'] = books['description'].apply(extract_important_words)"
   ]
  },
  {
   "cell_type": "code",
   "execution_count": 40,
   "metadata": {},
   "outputs": [],
   "source": [
    "books['genres'] = books['genres'].apply(extract_important_words)"
   ]
  },
  {
   "cell_type": "code",
   "execution_count": 41,
   "metadata": {},
   "outputs": [],
   "source": [
    "books['publisher'] = books['publisher'].apply(extract_important_words)"
   ]
  },
  {
   "cell_type": "markdown",
   "metadata": {},
   "source": [
    "#### Further dropping the columns we won't require"
   ]
  },
  {
   "cell_type": "code",
   "execution_count": 42,
   "metadata": {},
   "outputs": [],
   "source": [
    "books.drop(columns=['series', 'characters'],inplace=True)"
   ]
  },
  {
   "cell_type": "code",
   "execution_count": 35,
   "metadata": {},
   "outputs": [
    {
     "data": {
      "text/html": [
       "<div>\n",
       "<style scoped>\n",
       "    .dataframe tbody tr th:only-of-type {\n",
       "        vertical-align: middle;\n",
       "    }\n",
       "\n",
       "    .dataframe tbody tr th {\n",
       "        vertical-align: top;\n",
       "    }\n",
       "\n",
       "    .dataframe thead th {\n",
       "        text-align: right;\n",
       "    }\n",
       "</style>\n",
       "<table border=\"1\" class=\"dataframe\">\n",
       "  <thead>\n",
       "    <tr style=\"text-align: right;\">\n",
       "      <th></th>\n",
       "      <th>original_title</th>\n",
       "      <th>author</th>\n",
       "      <th>description</th>\n",
       "      <th>genres</th>\n",
       "      <th>publisher</th>\n",
       "      <th>setting</th>\n",
       "      <th>coverImg</th>\n",
       "    </tr>\n",
       "  </thead>\n",
       "  <tbody>\n",
       "    <tr>\n",
       "      <th>0</th>\n",
       "      <td>the hunger games</td>\n",
       "      <td>suzanne collins</td>\n",
       "      <td>old katniss everdeen regards losing means cert...</td>\n",
       "      <td>youngadult fiction dystopia fantasy sciencefic...</td>\n",
       "      <td>scholastic press</td>\n",
       "      <td>district12 panem capitol panem panem(unitedsta...</td>\n",
       "      <td>\"https://i.gr-assets.com/images/S/compressed.p...</td>\n",
       "    </tr>\n",
       "  </tbody>\n",
       "</table>\n",
       "</div>"
      ],
      "text/plain": [
       "     original_title           author  \\\n",
       "0  the hunger games  suzanne collins   \n",
       "\n",
       "                                         description  \\\n",
       "0  old katniss everdeen regards losing means cert...   \n",
       "\n",
       "                                              genres         publisher  \\\n",
       "0  youngadult fiction dystopia fantasy sciencefic...  scholastic press   \n",
       "\n",
       "                                             setting  \\\n",
       "0  district12 panem capitol panem panem(unitedsta...   \n",
       "\n",
       "                                            coverImg  \n",
       "0  \"https://i.gr-assets.com/images/S/compressed.p...  "
      ]
     },
     "execution_count": 35,
     "metadata": {},
     "output_type": "execute_result"
    }
   ],
   "source": [
    "books.head(1)"
   ]
  },
  {
   "cell_type": "markdown",
   "metadata": {},
   "source": [
    "#### Creating a new column by the name of ciombined features which combines the specified columns"
   ]
  },
  {
   "cell_type": "code",
   "execution_count": 43,
   "metadata": {},
   "outputs": [],
   "source": [
    "books['combined_features'] = books['author']+' '+books['description']+' '+books['genres']+' '+books['publisher']+' '+books['setting']"
   ]
  },
  {
   "cell_type": "code",
   "execution_count": 44,
   "metadata": {},
   "outputs": [
    {
     "data": {
      "text/html": [
       "<div>\n",
       "<style scoped>\n",
       "    .dataframe tbody tr th:only-of-type {\n",
       "        vertical-align: middle;\n",
       "    }\n",
       "\n",
       "    .dataframe tbody tr th {\n",
       "        vertical-align: top;\n",
       "    }\n",
       "\n",
       "    .dataframe thead th {\n",
       "        text-align: right;\n",
       "    }\n",
       "</style>\n",
       "<table border=\"1\" class=\"dataframe\">\n",
       "  <thead>\n",
       "    <tr style=\"text-align: right;\">\n",
       "      <th></th>\n",
       "      <th>original_title</th>\n",
       "      <th>author</th>\n",
       "      <th>description</th>\n",
       "      <th>genres</th>\n",
       "      <th>publisher</th>\n",
       "      <th>setting</th>\n",
       "      <th>coverImg</th>\n",
       "      <th>combined_features</th>\n",
       "    </tr>\n",
       "  </thead>\n",
       "  <tbody>\n",
       "    <tr>\n",
       "      <th>0</th>\n",
       "      <td>the hunger games</td>\n",
       "      <td>suzanne collins</td>\n",
       "      <td>old katniss everdeen regards losing means cert...</td>\n",
       "      <td>youngadult fiction dystopia fantasy sciencefic...</td>\n",
       "      <td>scholastic press</td>\n",
       "      <td>district12 panem capitol panem panem(unitedsta...</td>\n",
       "      <td>https://i.gr-assets.com/images/S/compressed.ph...</td>\n",
       "      <td>suzanne collins old katniss everdeen regards l...</td>\n",
       "    </tr>\n",
       "    <tr>\n",
       "      <th>1</th>\n",
       "      <td>harry potter and the order of the phoenix</td>\n",
       "      <td>mary grandpré rowling k j illustrator</td>\n",
       "      <td>personality like poisoned honey ordinary wizar...</td>\n",
       "      <td>fantasy youngadult fiction magic childrens adv...</td>\n",
       "      <td>scholastic inc</td>\n",
       "      <td>hogwartsschoolofwitchcraftandwizardry(unitedki...</td>\n",
       "      <td>https://i.gr-assets.com/images/S/compressed.ph...</td>\n",
       "      <td>mary grandpré rowling k j illustrator personal...</td>\n",
       "    </tr>\n",
       "    <tr>\n",
       "      <th>2</th>\n",
       "      <td>to kill a mockingbird</td>\n",
       "      <td>harper lee</td>\n",
       "      <td>young alabama woman claims universal appeal ha...</td>\n",
       "      <td>classics fiction historicalfiction school lite...</td>\n",
       "      <td>harper perennial modern classics</td>\n",
       "      <td>maycomb alabama(unitedstates)</td>\n",
       "      <td>https://i.gr-assets.com/images/S/compressed.ph...</td>\n",
       "      <td>harper lee young alabama woman claims universa...</td>\n",
       "    </tr>\n",
       "    <tr>\n",
       "      <th>3</th>\n",
       "      <td>pride and prejudice</td>\n",
       "      <td>jane austen anna quindlen introduction</td>\n",
       "      <td>radiant wit sparkles alternate cover edition j...</td>\n",
       "      <td>classics fiction romance historicalfiction lit...</td>\n",
       "      <td>modern library</td>\n",
       "      <td>unitedkingdom derbyshire england(unitedkingdom...</td>\n",
       "      <td>https://i.gr-assets.com/images/S/compressed.ph...</td>\n",
       "      <td>jane austen anna quindlen introduction radiant...</td>\n",
       "    </tr>\n",
       "  </tbody>\n",
       "</table>\n",
       "</div>"
      ],
      "text/plain": [
       "                              original_title  \\\n",
       "0                           the hunger games   \n",
       "1  harry potter and the order of the phoenix   \n",
       "2                      to kill a mockingbird   \n",
       "3                        pride and prejudice   \n",
       "\n",
       "                                   author  \\\n",
       "0                         suzanne collins   \n",
       "1   mary grandpré rowling k j illustrator   \n",
       "2                              harper lee   \n",
       "3  jane austen anna quindlen introduction   \n",
       "\n",
       "                                         description  \\\n",
       "0  old katniss everdeen regards losing means cert...   \n",
       "1  personality like poisoned honey ordinary wizar...   \n",
       "2  young alabama woman claims universal appeal ha...   \n",
       "3  radiant wit sparkles alternate cover edition j...   \n",
       "\n",
       "                                              genres  \\\n",
       "0  youngadult fiction dystopia fantasy sciencefic...   \n",
       "1  fantasy youngadult fiction magic childrens adv...   \n",
       "2  classics fiction historicalfiction school lite...   \n",
       "3  classics fiction romance historicalfiction lit...   \n",
       "\n",
       "                          publisher  \\\n",
       "0                  scholastic press   \n",
       "1                    scholastic inc   \n",
       "2  harper perennial modern classics   \n",
       "3                    modern library   \n",
       "\n",
       "                                             setting  \\\n",
       "0  district12 panem capitol panem panem(unitedsta...   \n",
       "1  hogwartsschoolofwitchcraftandwizardry(unitedki...   \n",
       "2                     maycomb alabama(unitedstates)    \n",
       "3  unitedkingdom derbyshire england(unitedkingdom...   \n",
       "\n",
       "                                            coverImg  \\\n",
       "0  https://i.gr-assets.com/images/S/compressed.ph...   \n",
       "1  https://i.gr-assets.com/images/S/compressed.ph...   \n",
       "2  https://i.gr-assets.com/images/S/compressed.ph...   \n",
       "3  https://i.gr-assets.com/images/S/compressed.ph...   \n",
       "\n",
       "                                   combined_features  \n",
       "0  suzanne collins old katniss everdeen regards l...  \n",
       "1  mary grandpré rowling k j illustrator personal...  \n",
       "2  harper lee young alabama woman claims universa...  \n",
       "3  jane austen anna quindlen introduction radiant...  "
      ]
     },
     "execution_count": 44,
     "metadata": {},
     "output_type": "execute_result"
    }
   ],
   "source": [
    "books.head(4)"
   ]
  },
  {
   "cell_type": "code",
   "execution_count": 45,
   "metadata": {},
   "outputs": [
    {
     "data": {
      "text/plain": [
       "Index(['original_title', 'author', 'description', 'genres', 'publisher',\n",
       "       'setting', 'coverImg', 'combined_features'],\n",
       "      dtype='object')"
      ]
     },
     "execution_count": 45,
     "metadata": {},
     "output_type": "execute_result"
    }
   ],
   "source": [
    "books.columns"
   ]
  },
  {
   "cell_type": "code",
   "execution_count": 46,
   "metadata": {},
   "outputs": [],
   "source": [
    "books.drop(columns=[ 'description', 'genres', 'publisher','setting'],inplace=True)"
   ]
  },
  {
   "cell_type": "code",
   "execution_count": 47,
   "metadata": {},
   "outputs": [
    {
     "data": {
      "text/html": [
       "<div>\n",
       "<style scoped>\n",
       "    .dataframe tbody tr th:only-of-type {\n",
       "        vertical-align: middle;\n",
       "    }\n",
       "\n",
       "    .dataframe tbody tr th {\n",
       "        vertical-align: top;\n",
       "    }\n",
       "\n",
       "    .dataframe thead th {\n",
       "        text-align: right;\n",
       "    }\n",
       "</style>\n",
       "<table border=\"1\" class=\"dataframe\">\n",
       "  <thead>\n",
       "    <tr style=\"text-align: right;\">\n",
       "      <th></th>\n",
       "      <th>original_title</th>\n",
       "      <th>author</th>\n",
       "      <th>coverImg</th>\n",
       "      <th>combined_features</th>\n",
       "    </tr>\n",
       "  </thead>\n",
       "  <tbody>\n",
       "    <tr>\n",
       "      <th>0</th>\n",
       "      <td>the hunger games</td>\n",
       "      <td>suzanne collins</td>\n",
       "      <td>https://i.gr-assets.com/images/S/compressed.ph...</td>\n",
       "      <td>suzanne collins old katniss everdeen regards l...</td>\n",
       "    </tr>\n",
       "    <tr>\n",
       "      <th>1</th>\n",
       "      <td>harry potter and the order of the phoenix</td>\n",
       "      <td>mary grandpré rowling k j illustrator</td>\n",
       "      <td>https://i.gr-assets.com/images/S/compressed.ph...</td>\n",
       "      <td>mary grandpré rowling k j illustrator personal...</td>\n",
       "    </tr>\n",
       "    <tr>\n",
       "      <th>2</th>\n",
       "      <td>to kill a mockingbird</td>\n",
       "      <td>harper lee</td>\n",
       "      <td>https://i.gr-assets.com/images/S/compressed.ph...</td>\n",
       "      <td>harper lee young alabama woman claims universa...</td>\n",
       "    </tr>\n",
       "    <tr>\n",
       "      <th>3</th>\n",
       "      <td>pride and prejudice</td>\n",
       "      <td>jane austen anna quindlen introduction</td>\n",
       "      <td>https://i.gr-assets.com/images/S/compressed.ph...</td>\n",
       "      <td>jane austen anna quindlen introduction radiant...</td>\n",
       "    </tr>\n",
       "    <tr>\n",
       "      <th>4</th>\n",
       "      <td>twilight</td>\n",
       "      <td>stephenie meyer</td>\n",
       "      <td>https://i.gr-assets.com/images/S/compressed.ph...</td>\n",
       "      <td>stephenie meyer three things extraordinarily s...</td>\n",
       "    </tr>\n",
       "    <tr>\n",
       "      <th>5</th>\n",
       "      <td>the book thief</td>\n",
       "      <td>markus zusak goodreads author</td>\n",
       "      <td>https://i.gr-assets.com/images/S/compressed.ph...</td>\n",
       "      <td>markus zusak goodreads author winning author m...</td>\n",
       "    </tr>\n",
       "    <tr>\n",
       "      <th>6</th>\n",
       "      <td>animal farm</td>\n",
       "      <td>preface ), c russell baker george orwell woodh...</td>\n",
       "      <td>https://i.gr-assets.com/images/S/compressed.ph...</td>\n",
       "      <td>preface ), c russell baker george orwell woodh...</td>\n",
       "    </tr>\n",
       "    <tr>\n",
       "      <th>7</th>\n",
       "      <td>the chronicles of narnia</td>\n",
       "      <td>pauline baynes lewis illustrator c</td>\n",
       "      <td>https://i.gr-assets.com/images/S/compressed.ph...</td>\n",
       "      <td>pauline baynes lewis illustrator c seven books...</td>\n",
       "    </tr>\n",
       "    <tr>\n",
       "      <th>8</th>\n",
       "      <td>j.r.r. tolkien 4-book boxed set: the hobbit an...</td>\n",
       "      <td>tolkien r r j</td>\n",
       "      <td>https://i.gr-assets.com/images/S/compressed.ph...</td>\n",
       "      <td>tolkien r r j mysterious stranger called strid...</td>\n",
       "    </tr>\n",
       "    <tr>\n",
       "      <th>9</th>\n",
       "      <td>gone with the wind</td>\n",
       "      <td>margaret mitchell</td>\n",
       "      <td>https://i.gr-assets.com/images/S/compressed.ph...</td>\n",
       "      <td>margaret mitchell must use every means georgia...</td>\n",
       "    </tr>\n",
       "  </tbody>\n",
       "</table>\n",
       "</div>"
      ],
      "text/plain": [
       "                                      original_title  \\\n",
       "0                                   the hunger games   \n",
       "1          harry potter and the order of the phoenix   \n",
       "2                              to kill a mockingbird   \n",
       "3                                pride and prejudice   \n",
       "4                                           twilight   \n",
       "5                                     the book thief   \n",
       "6                                        animal farm   \n",
       "7                           the chronicles of narnia   \n",
       "8  j.r.r. tolkien 4-book boxed set: the hobbit an...   \n",
       "9                                 gone with the wind   \n",
       "\n",
       "                                              author  \\\n",
       "0                                    suzanne collins   \n",
       "1              mary grandpré rowling k j illustrator   \n",
       "2                                         harper lee   \n",
       "3             jane austen anna quindlen introduction   \n",
       "4                                    stephenie meyer   \n",
       "5                      markus zusak goodreads author   \n",
       "6  preface ), c russell baker george orwell woodh...   \n",
       "7                 pauline baynes lewis illustrator c   \n",
       "8                                      tolkien r r j   \n",
       "9                                  margaret mitchell   \n",
       "\n",
       "                                            coverImg  \\\n",
       "0  https://i.gr-assets.com/images/S/compressed.ph...   \n",
       "1  https://i.gr-assets.com/images/S/compressed.ph...   \n",
       "2  https://i.gr-assets.com/images/S/compressed.ph...   \n",
       "3  https://i.gr-assets.com/images/S/compressed.ph...   \n",
       "4  https://i.gr-assets.com/images/S/compressed.ph...   \n",
       "5  https://i.gr-assets.com/images/S/compressed.ph...   \n",
       "6  https://i.gr-assets.com/images/S/compressed.ph...   \n",
       "7  https://i.gr-assets.com/images/S/compressed.ph...   \n",
       "8  https://i.gr-assets.com/images/S/compressed.ph...   \n",
       "9  https://i.gr-assets.com/images/S/compressed.ph...   \n",
       "\n",
       "                                   combined_features  \n",
       "0  suzanne collins old katniss everdeen regards l...  \n",
       "1  mary grandpré rowling k j illustrator personal...  \n",
       "2  harper lee young alabama woman claims universa...  \n",
       "3  jane austen anna quindlen introduction radiant...  \n",
       "4  stephenie meyer three things extraordinarily s...  \n",
       "5  markus zusak goodreads author winning author m...  \n",
       "6  preface ), c russell baker george orwell woodh...  \n",
       "7  pauline baynes lewis illustrator c seven books...  \n",
       "8  tolkien r r j mysterious stranger called strid...  \n",
       "9  margaret mitchell must use every means georgia...  "
      ]
     },
     "execution_count": 47,
     "metadata": {},
     "output_type": "execute_result"
    }
   ],
   "source": [
    "books.head(10)"
   ]
  },
  {
   "cell_type": "markdown",
   "metadata": {},
   "source": [
    "#### Removing all the characters other than alphanumeric characters from the original title and adding them to a new column title"
   ]
  },
  {
   "cell_type": "code",
   "execution_count": 48,
   "metadata": {},
   "outputs": [],
   "source": [
    "def clear(data):\n",
    "    result=[]\n",
    "    result.append(re.sub(\"[^a-z1-9]\",\"\",data))\n",
    "    return result"
   ]
  },
  {
   "cell_type": "code",
   "execution_count": 49,
   "metadata": {},
   "outputs": [],
   "source": [
    "books['title'] = books['original_title'].apply(clear).str.join('')"
   ]
  },
  {
   "cell_type": "code",
   "execution_count": 50,
   "metadata": {},
   "outputs": [],
   "source": [
    "#books['combined_features'] = books['combined_features'].apply(clear).str.join('')"
   ]
  },
  {
   "cell_type": "code",
   "execution_count": 51,
   "metadata": {},
   "outputs": [
    {
     "data": {
      "text/html": [
       "<div>\n",
       "<style scoped>\n",
       "    .dataframe tbody tr th:only-of-type {\n",
       "        vertical-align: middle;\n",
       "    }\n",
       "\n",
       "    .dataframe tbody tr th {\n",
       "        vertical-align: top;\n",
       "    }\n",
       "\n",
       "    .dataframe thead th {\n",
       "        text-align: right;\n",
       "    }\n",
       "</style>\n",
       "<table border=\"1\" class=\"dataframe\">\n",
       "  <thead>\n",
       "    <tr style=\"text-align: right;\">\n",
       "      <th></th>\n",
       "      <th>original_title</th>\n",
       "      <th>author</th>\n",
       "      <th>coverImg</th>\n",
       "      <th>combined_features</th>\n",
       "      <th>title</th>\n",
       "    </tr>\n",
       "  </thead>\n",
       "  <tbody>\n",
       "    <tr>\n",
       "      <th>0</th>\n",
       "      <td>the hunger games</td>\n",
       "      <td>suzanne collins</td>\n",
       "      <td>https://i.gr-assets.com/images/S/compressed.ph...</td>\n",
       "      <td>suzanne collins old katniss everdeen regards l...</td>\n",
       "      <td>thehungergames</td>\n",
       "    </tr>\n",
       "    <tr>\n",
       "      <th>1</th>\n",
       "      <td>harry potter and the order of the phoenix</td>\n",
       "      <td>mary grandpré rowling k j illustrator</td>\n",
       "      <td>https://i.gr-assets.com/images/S/compressed.ph...</td>\n",
       "      <td>mary grandpré rowling k j illustrator personal...</td>\n",
       "      <td>harrypotterandtheorderofthephoenix</td>\n",
       "    </tr>\n",
       "    <tr>\n",
       "      <th>2</th>\n",
       "      <td>to kill a mockingbird</td>\n",
       "      <td>harper lee</td>\n",
       "      <td>https://i.gr-assets.com/images/S/compressed.ph...</td>\n",
       "      <td>harper lee young alabama woman claims universa...</td>\n",
       "      <td>tokillamockingbird</td>\n",
       "    </tr>\n",
       "    <tr>\n",
       "      <th>3</th>\n",
       "      <td>pride and prejudice</td>\n",
       "      <td>jane austen anna quindlen introduction</td>\n",
       "      <td>https://i.gr-assets.com/images/S/compressed.ph...</td>\n",
       "      <td>jane austen anna quindlen introduction radiant...</td>\n",
       "      <td>prideandprejudice</td>\n",
       "    </tr>\n",
       "    <tr>\n",
       "      <th>4</th>\n",
       "      <td>twilight</td>\n",
       "      <td>stephenie meyer</td>\n",
       "      <td>https://i.gr-assets.com/images/S/compressed.ph...</td>\n",
       "      <td>stephenie meyer three things extraordinarily s...</td>\n",
       "      <td>twilight</td>\n",
       "    </tr>\n",
       "  </tbody>\n",
       "</table>\n",
       "</div>"
      ],
      "text/plain": [
       "                              original_title  \\\n",
       "0                           the hunger games   \n",
       "1  harry potter and the order of the phoenix   \n",
       "2                      to kill a mockingbird   \n",
       "3                        pride and prejudice   \n",
       "4                                   twilight   \n",
       "\n",
       "                                   author  \\\n",
       "0                         suzanne collins   \n",
       "1   mary grandpré rowling k j illustrator   \n",
       "2                              harper lee   \n",
       "3  jane austen anna quindlen introduction   \n",
       "4                         stephenie meyer   \n",
       "\n",
       "                                            coverImg  \\\n",
       "0  https://i.gr-assets.com/images/S/compressed.ph...   \n",
       "1  https://i.gr-assets.com/images/S/compressed.ph...   \n",
       "2  https://i.gr-assets.com/images/S/compressed.ph...   \n",
       "3  https://i.gr-assets.com/images/S/compressed.ph...   \n",
       "4  https://i.gr-assets.com/images/S/compressed.ph...   \n",
       "\n",
       "                                   combined_features  \\\n",
       "0  suzanne collins old katniss everdeen regards l...   \n",
       "1  mary grandpré rowling k j illustrator personal...   \n",
       "2  harper lee young alabama woman claims universa...   \n",
       "3  jane austen anna quindlen introduction radiant...   \n",
       "4  stephenie meyer three things extraordinarily s...   \n",
       "\n",
       "                                title  \n",
       "0                      thehungergames  \n",
       "1  harrypotterandtheorderofthephoenix  \n",
       "2                  tokillamockingbird  \n",
       "3                   prideandprejudice  \n",
       "4                            twilight  "
      ]
     },
     "execution_count": 51,
     "metadata": {},
     "output_type": "execute_result"
    }
   ],
   "source": [
    "books.head()"
   ]
  },
  {
   "cell_type": "markdown",
   "metadata": {},
   "source": [
    "#### Coverting the processed data into CSV file which we will use in our recommendation system"
   ]
  },
  {
   "cell_type": "code",
   "execution_count": 45,
   "metadata": {},
   "outputs": [],
   "source": [
    "books.to_csv('final_data.csv',index=False)"
   ]
  },
  {
   "cell_type": "code",
   "execution_count": null,
   "metadata": {},
   "outputs": [],
   "source": []
  }
 ],
 "metadata": {
  "kernelspec": {
   "display_name": "Python 3 (ipykernel)",
   "language": "python",
   "name": "python3"
  },
  "language_info": {
   "codemirror_mode": {
    "name": "ipython",
    "version": 3
   },
   "file_extension": ".py",
   "mimetype": "text/x-python",
   "name": "python",
   "nbconvert_exporter": "python",
   "pygments_lexer": "ipython3",
   "version": "3.9.12"
  }
 },
 "nbformat": 4,
 "nbformat_minor": 2
}
